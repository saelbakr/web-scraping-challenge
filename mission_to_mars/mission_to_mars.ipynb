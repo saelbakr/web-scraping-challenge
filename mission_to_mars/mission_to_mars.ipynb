{
 "cells": [
  {
   "cell_type": "code",
   "execution_count": 199,
   "metadata": {},
   "outputs": [],
   "source": [
    "from bs4 import BeautifulSoup\n",
    "import requests\n",
    "import pymongo\n",
    "import pandas as pd\n",
    "import time\n",
    "import os"
   ]
  },
  {
   "cell_type": "code",
   "execution_count": 76,
   "metadata": {},
   "outputs": [],
   "source": [
    "executable_path = {'executable_path': 'chromedriver.exe'}\n",
    "browser = Browser('chrome', **executable_path, headless=False)"
   ]
  },
  {
   "cell_type": "raw",
   "metadata": {},
   "source": [
    "url = 'https://mars.nasa.gov/news/'"
   ]
  },
  {
   "cell_type": "code",
   "execution_count": 113,
   "metadata": {},
   "outputs": [],
   "source": [
    "html = browser.html\n"
   ]
  },
  {
   "cell_type": "code",
   "execution_count": 114,
   "metadata": {},
   "outputs": [],
   "source": [
    "soup = BeautifulSoup(html, 'html.parser')"
   ]
  },
  {
   "cell_type": "code",
   "execution_count": 115,
   "metadata": {},
   "outputs": [],
   "source": [
    "#print(soup.prettify())"
   ]
  },
  {
   "cell_type": "code",
   "execution_count": null,
   "metadata": {},
   "outputs": [],
   "source": []
  },
  {
   "cell_type": "code",
   "execution_count": 159,
   "metadata": {},
   "outputs": [
    {
     "name": "stdout",
     "output_type": "stream",
     "text": [
      "How NASA's Perseverance Mars Team Adjusted to Work in the Time of Coronavirus \n",
      "Like much of the rest of the world, the Mars rover team is pushing forward with its mission-critical work while putting the health and safety of their colleagues and community first.\n"
     ]
    }
   ],
   "source": [
    "#Finding the Title and Paragraph\n",
    "title = soup.find_all('div',class_=\"content_title\")[1].text\n",
    "paragraph = soup.find('div', class_=\"article_teaser_body\").text\n",
    "print(title)\n",
    "print(paragraph)"
   ]
  },
  {
   "cell_type": "markdown",
   "metadata": {},
   "source": [
    " # IMAGE"
   ]
  },
  {
   "cell_type": "code",
   "execution_count": 258,
   "metadata": {},
   "outputs": [],
   "source": [
    "url_2 = 'https://www.jpl.nasa.gov/spaceimages/?search=&category=Mars'\n",
    "browser.visit(url_2)"
   ]
  },
  {
   "cell_type": "code",
   "execution_count": 259,
   "metadata": {},
   "outputs": [],
   "source": [
    "time.sleep(3)"
   ]
  },
  {
   "cell_type": "code",
   "execution_count": 260,
   "metadata": {},
   "outputs": [],
   "source": [
    "one_html = browser.html"
   ]
  },
  {
   "cell_type": "code",
   "execution_count": 261,
   "metadata": {},
   "outputs": [],
   "source": [
    "soup = BeautifulSoup(one_html,\"html.parser\")\n",
    "#print(soup.prettify())"
   ]
  },
  {
   "cell_type": "code",
   "execution_count": 248,
   "metadata": {},
   "outputs": [
    {
     "name": "stdout",
     "output_type": "stream",
     "text": [
      "[]\n"
     ]
    }
   ],
   "source": [
    "#img = soup.find_all(\"a\", class_=\"fancybox\")\n",
    "#print(img)\n",
    "#img_src = []\n",
    "#mercy told me to try her code but still nothing....\n",
    "#for image in img:\n",
    "    #full_image = image['data-fancybox-href']\n",
    "    #img_src.append(full_image)\n",
    "    #featured_image_url = 'https://www.jpl.nasa.gov' + full_image\n",
    "    #featured_image_url"
   ]
  },
  {
   "cell_type": "code",
   "execution_count": 263,
   "metadata": {},
   "outputs": [
    {
     "name": "stdout",
     "output_type": "stream",
     "text": [
      "background-image: url('/spaceimages/images/wallpaper/PIA19639-1920x1200.jpg');\n"
     ]
    }
   ],
   "source": [
    "source = soup.find(class_ = \"carousel_item\")['style']\n",
    "print(source)"
   ]
  },
  {
   "cell_type": "code",
   "execution_count": 268,
   "metadata": {},
   "outputs": [],
   "source": [
    "just_the_name = source.split(\"'\")[1]"
   ]
  },
  {
   "cell_type": "code",
   "execution_count": 273,
   "metadata": {},
   "outputs": [
    {
     "name": "stdout",
     "output_type": "stream",
     "text": [
      "The Featured Image URL: https://jpl.nasa.gov/spaceimages/images/wallpaper/PIA19639-1920x1200.jpg\n"
     ]
    }
   ],
   "source": [
    "#Now that I have the back slashes, I will get teh base url without any additions and add it on to it\n",
    "base_url = \"https://jpl.nasa.gov\"\n",
    "\n",
    "featured_image_url = base_url + just_the_name\n",
    "print(f'The Featured Image URL: {featured_image_url}')"
   ]
  },
  {
   "cell_type": "markdown",
   "metadata": {},
   "source": [
    "# WEATHER"
   ]
  },
  {
   "cell_type": "code",
   "execution_count": 238,
   "metadata": {},
   "outputs": [],
   "source": [
    "url = 'https://twitter.com/marswxreport?lang=en'\n",
    "browser_3 = Browser(\"chrome\", **executable_path, headless=False)\n",
    "\n",
    "browser_3.visit(url)\n",
    "html_3 = browser_3.html\n",
    "\n",
    "soup = bs(html_3, 'html.parser')"
   ]
  },
  {
   "cell_type": "code",
   "execution_count": 217,
   "metadata": {},
   "outputs": [],
   "source": [
    "most_recent_tweet = soup.find('div', class_='css-1dbjc4n')\n",
    "#mars_weather = most_recent_tweet.find('span',class_='css-901oao r-hkyrab r-1qd0xha r-a023e6 r-16dba41 r-ad9z0x r-bcqeeo r-bnwqim r-qvutc0')\n",
    "#print(mars_weather)\n",
    "mars_weather = soup.find('span', class_='css-901oao css-16my406 r-1qd0xha r-ad9z0x r-bcqeeo r-qvutc0')\n",
    "mars_weather\n",
    "\n",
    "\n",
    "#<span class=\"css-901oao css-16my406 r-1qd0xha r-ad9z0x r-bcqeeo r-qvutc0\">InSight sol 503 (2020-04-26) low -93.8ºC (-136.8ºF) high -4.9ºC (23.2ºF)\n",
    "#winds from the WNW at 4.6 m/s (10.2 mph) gusting to 17.5 m/s (39.1 mph)\n",
    "#pressure at 6.70 hPa</span>\n",
    "#<div lang=\"en\" dir=\"auto\" class=\"css-901oao r-hkyrab r-1qd0xha r-a023e6 r-16dba41 r-ad9z0x r-bcqeeo r-bnwqim r-qvutc0\"><span class=\"css-901oao css-16my406 r-1qd0xha r-ad9z0x r-bcqeeo r-qvutc0\">InSight sol 503 (2020-04-26) low -93.8ºC (-136.8ºF) high -4.9ºC (23.2ºF)\n",
    "#winds from the WNW at 4.6 m/s (10.2 mph) gusting to 17.5 m/s (39.1 mph)\n",
    "#pressure at 6.70 hPa</span></div>"
   ]
  },
  {
   "cell_type": "markdown",
   "metadata": {},
   "source": [
    "# HTML PANDA-STYLE"
   ]
  },
  {
   "cell_type": "code",
   "execution_count": 285,
   "metadata": {},
   "outputs": [],
   "source": [
    "url_4 = 'https://space-facts.com/mars/'\n",
    "browser_4 = Browser(\"chrome\", **executable_path, headless=False)\n",
    "browser_4.visit(url_4)"
   ]
  },
  {
   "cell_type": "code",
   "execution_count": 297,
   "metadata": {},
   "outputs": [],
   "source": [
    "facts= browser_4.html\n",
    "soup = BeautifulSoup(html, \"html.parser\")"
   ]
  },
  {
   "cell_type": "code",
   "execution_count": 301,
   "metadata": {},
   "outputs": [],
   "source": [
    "facts_df = soup.find('table')\n",
    "facts_df\n",
    "#<table id=\"tablepress-comp-mars\" class=\"tablepress tablepress-id-comp-mars blue-table\"><thead><tr class=\"row-1\"><th class=\"column-1\"><strong>Mars - Earth Comparison</strong></th><th class=\"column-2\"><span class=\"mars\">Mars</span></th><th class=\"column-3\"><span class=\"earth\">Earth</span></th></tr></thead><tbody><tr class=\"row-2\"><td class=\"column-1\">Diameter:</td><td class=\"column-2\"><span class=\"mars-s\">6,779 km</span></td><td class=\"column-3\"><span class=\"earth-s\">12,742 km</span></td></tr><tr class=\"row-3\"><td class=\"column-1\">Mass:</td><td class=\"column-2\"><span class=\"mars-s\">6.39 × 10^23 kg</span></td><td class=\"column-3\"><span class=\"earth-s\">5.97 × 10^24 kg</span></td></tr><tr class=\"row-4\"><td class=\"column-1\">Moons:</td><td class=\"column-2\"><span class=\"mars-s\">2</span></td><td class=\"column-3\"><span class=\"earth-s\">1</span></td></tr><tr class=\"row-5\"><td class=\"column-1\">Distance from Sun:</td><td class=\"column-2\"><span class=\"mars-s\">227,943,824 km</span></td><td class=\"column-3\"><span class=\"earth-s\">149,598,262 km</span></td></tr><tr class=\"row-6\"><td class=\"column-1\">Length of Year:</td><td class=\"column-2\"><span class=\"mars-s\">687 Earth days</span></td><td class=\"column-3\"><span class=\"earth-s\">365.24 days</span></td></tr><tr class=\"row-7\"><td class=\"column-1\">Temperature:</td><td class=\"column-2\"><span class=\"mars-s\">-153 to 20 °C</span></td><td class=\"column-3\"><span class=\"earth-s\">-88 to 58°C</span></td></tr></tbody></table>"
   ]
  },
  {
   "cell_type": "code",
   "execution_count": 302,
   "metadata": {},
   "outputs": [
    {
     "ename": "AttributeError",
     "evalue": "'NoneType' object has no attribute 'columns'",
     "output_type": "error",
     "traceback": [
      "\u001b[1;31m---------------------------------------------------------------------------\u001b[0m",
      "\u001b[1;31mAttributeError\u001b[0m                            Traceback (most recent call last)",
      "\u001b[1;32m<ipython-input-302-a080e9ddf403>\u001b[0m in \u001b[0;36m<module>\u001b[1;34m\u001b[0m\n\u001b[1;32m----> 1\u001b[1;33m \u001b[0mfacts_df\u001b[0m\u001b[1;33m.\u001b[0m\u001b[0mcolumns\u001b[0m \u001b[1;33m=\u001b[0m \u001b[1;33m[\u001b[0m\u001b[1;34m'Property'\u001b[0m\u001b[1;33m,\u001b[0m\u001b[1;34m'Value'\u001b[0m\u001b[1;33m]\u001b[0m\u001b[1;33m\u001b[0m\u001b[1;33m\u001b[0m\u001b[0m\n\u001b[0m\u001b[0;32m      2\u001b[0m \u001b[0mfacts_df\u001b[0m\u001b[1;33m.\u001b[0m\u001b[0mset_index\u001b[0m\u001b[1;33m=\u001b[0m\u001b[1;33m[\u001b[0m\u001b[1;34m'Property'\u001b[0m\u001b[1;33m]\u001b[0m\u001b[1;33m\u001b[0m\u001b[1;33m\u001b[0m\u001b[0m\n",
      "\u001b[1;31mAttributeError\u001b[0m: 'NoneType' object has no attribute 'columns'"
     ]
    }
   ],
   "source": [
    "facts_df.columns = ['Property','Value']\n",
    "facts_df.set_index=['Property']"
   ]
  },
  {
   "cell_type": "code",
   "execution_count": 296,
   "metadata": {},
   "outputs": [
    {
     "ename": "AttributeError",
     "evalue": "ResultSet object has no attribute 'to_html'. You're probably treating a list of elements like a single element. Did you call find_all() when you meant to call find()?",
     "output_type": "error",
     "traceback": [
      "\u001b[1;31m---------------------------------------------------------------------------\u001b[0m",
      "\u001b[1;31mAttributeError\u001b[0m                            Traceback (most recent call last)",
      "\u001b[1;32m<ipython-input-296-ed11fa61d704>\u001b[0m in \u001b[0;36m<module>\u001b[1;34m\u001b[0m\n\u001b[1;32m----> 1\u001b[1;33m \u001b[0mfacts_df\u001b[0m\u001b[1;33m.\u001b[0m\u001b[0mto_html\u001b[0m\u001b[1;33m(\u001b[0m\u001b[1;33m)\u001b[0m\u001b[1;33m\u001b[0m\u001b[1;33m\u001b[0m\u001b[0m\n\u001b[0m",
      "\u001b[1;32m~\\OneDrive\\Anaconda\\lib\\site-packages\\bs4\\element.py\u001b[0m in \u001b[0;36m__getattr__\u001b[1;34m(self, key)\u001b[0m\n\u001b[0;32m   2079\u001b[0m         \u001b[1;34m\"\"\"Raise a helpful exception to explain a common code fix.\"\"\"\u001b[0m\u001b[1;33m\u001b[0m\u001b[1;33m\u001b[0m\u001b[0m\n\u001b[0;32m   2080\u001b[0m         raise AttributeError(\n\u001b[1;32m-> 2081\u001b[1;33m             \u001b[1;34m\"ResultSet object has no attribute '%s'. You're probably treating a list of elements like a single element. Did you call find_all() when you meant to call find()?\"\u001b[0m \u001b[1;33m%\u001b[0m \u001b[0mkey\u001b[0m\u001b[1;33m\u001b[0m\u001b[1;33m\u001b[0m\u001b[0m\n\u001b[0m\u001b[0;32m   2082\u001b[0m         )\n",
      "\u001b[1;31mAttributeError\u001b[0m: ResultSet object has no attribute 'to_html'. You're probably treating a list of elements like a single element. Did you call find_all() when you meant to call find()?"
     ]
    }
   ],
   "source": [
    "facts_df.to_html()"
   ]
  },
  {
   "cell_type": "code",
   "execution_count": 233,
   "metadata": {},
   "outputs": [],
   "source": [
    "facts_df.to_html('Mars_Facts.html')"
   ]
  },
  {
   "cell_type": "code",
   "execution_count": null,
   "metadata": {},
   "outputs": [],
   "source": []
  },
  {
   "cell_type": "code",
   "execution_count": null,
   "metadata": {},
   "outputs": [],
   "source": []
  },
  {
   "cell_type": "code",
   "execution_count": 313,
   "metadata": {},
   "outputs": [],
   "source": [
    "url_6 = 'https://astrogeology.usgs.gov/search/results?q=hemisphere+enhanced&k1=target&v1=Mars'\n",
    "browser_6 = Browser(\"chrome\", **executable_path, headless=False)\n",
    "browser_6.visit(url_6)\n",
    "\n"
   ]
  },
  {
   "cell_type": "code",
   "execution_count": 314,
   "metadata": {},
   "outputs": [],
   "source": [
    "html_6 = browser_6.html\n",
    "soup = BeautifulSoup(html_6, 'html.parser')"
   ]
  },
  {
   "cell_type": "code",
   "execution_count": 315,
   "metadata": {},
   "outputs": [
    {
     "name": "stdout",
     "output_type": "stream",
     "text": [
      "https://www.usgs.gov/centers/astrogeo-sc\n",
      "https://nasa.gov\n",
      "https://www.usgs.gov/centers/astrogeology-science-center/science/pds-cartography-and-imaging-sciences-node-usgs\n",
      "/search\n",
      "/search/map/Mars/Viking/cerberus_enhanced\n",
      "/search/map/Mars/Viking/cerberus_enhanced\n",
      "/search/map/Mars/Viking/schiaparelli_enhanced\n",
      "/search/map/Mars/Viking/schiaparelli_enhanced\n",
      "/search/map/Mars/Viking/syrtis_major_enhanced\n",
      "/search/map/Mars/Viking/syrtis_major_enhanced\n",
      "/search/map/Mars/Viking/valles_marineris_enhanced\n",
      "/search/map/Mars/Viking/valles_marineris_enhanced\n",
      "http://isis.astrogeology.usgs.gov\n",
      "http://planetarynames.wr.usgs.gov\n",
      "https://astrogeology.usgs.gov/tools/map-a-planet-2\n",
      "https://www.usgs.gov/centers/astrogeo-sc/science/cartography-and-imaging-sciences-node-nasa-planetary-data-system\n",
      "https://www.usgs.gov/centers/astrogeo-sc/science/regional-planetary-image-facility-rpif\n",
      "\n",
      "http://pilot.wr.usgs.gov\n",
      "https://www.usgs.gov/centers/astrogeo-sc/science/mrctr-gis-lab\n",
      "http://astrogeology.usgs.gov/search\n",
      "http://astrogeology.usgs.gov/maps/about\n",
      "http://astrogeology.usgs.gov/maps/contact\n",
      "https://www.usgs.gov/centers/astrogeo-sc\n"
     ]
    }
   ],
   "source": [
    "\n",
    "for urls in soup.find_all('a'):\n",
    "    print(urls.get('href'))"
   ]
  },
  {
   "cell_type": "code",
   "execution_count": null,
   "metadata": {},
   "outputs": [],
   "source": [
    "#urls = []\n",
    "#image_info = soup.find_all(\"div\", class_=\"item\")\n",
    "#for images in image_info:\n",
    "    #image_and_title = {}\n",
    "    #title = images.find(\"h3\").text\n",
    "    #next_image = images.find(\"div\", class_=\"description\").a[\"href\"]"
   ]
  },
  {
   "cell_type": "code",
   "execution_count": 317,
   "metadata": {},
   "outputs": [
    {
     "data": {
      "text/plain": [
       "<splinter.element_list.ElementList at 0x24bb0ff11c8>"
      ]
     },
     "execution_count": 317,
     "metadata": {},
     "output_type": "execute_result"
    }
   ],
   "source": [
    "browser_6.links.find_by_partial_href('nasa.gov')"
   ]
  },
  {
   "cell_type": "code",
   "execution_count": null,
   "metadata": {},
   "outputs": [],
   "source": []
  }
 ],
 "metadata": {
  "kernelspec": {
   "display_name": "Python 3",
   "language": "python",
   "name": "python3"
  },
  "language_info": {
   "codemirror_mode": {
    "name": "ipython",
    "version": 3
   },
   "file_extension": ".py",
   "mimetype": "text/x-python",
   "name": "python",
   "nbconvert_exporter": "python",
   "pygments_lexer": "ipython3",
   "version": "3.7.6"
  }
 },
 "nbformat": 4,
 "nbformat_minor": 4
}
